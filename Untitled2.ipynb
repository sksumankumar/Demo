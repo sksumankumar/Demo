{
 "cells": [
  {
   "cell_type": "code",
   "execution_count": 1,
   "id": "8cc4f0be",
   "metadata": {},
   "outputs": [
    {
     "name": "stdout",
     "output_type": "stream",
     "text": [
      "['bread', 'milk', 'butter', 'cocoa'] [78, 47, 96, 55, 34] [1, 2, 3.0, 'text', True, (3+2j)]\n"
     ]
    }
   ],
   "source": [
    "item_list=['bread','milk','butter','cocoa']\n",
    "                                                                                                                                                                                                                                                                                                                                                                                                                                                                    student_marks=[78,47,96,55,34]\n",
    "hetero_list=[1,2,3.0,'text',True,3+2j]\n",
    "print(item_list,student_marks,hetero_list)"
   ]
  },
  {
   "cell_type": "code",
   "execution_count": 2,
   "id": "17d41d4c",
   "metadata": {},
   "outputs": [
    {
     "name": "stdout",
     "output_type": "stream",
     "text": [
      "[83, 47, 96, 55, 34]\n",
      "[83, 52, 96, 55, 34]\n",
      "[83, 52, 101, 55, 34]\n",
      "[83, 52, 101, 60, 34]\n",
      "[83, 52, 101, 60, 39]\n"
     ]
    }
   ],
   "source": [
    "student_marks=[78,47,96,55,34]\n",
    "for i in range(len(student_marks)):\n",
    "    student_marks[i]+=5\n",
    "    print(student_marks)\n"
   ]
  },
  {
   "cell_type": "code",
   "execution_count": 5,
   "id": "f2fc9c73",
   "metadata": {},
   "outputs": [
    {
     "name": "stdout",
     "output_type": "stream",
     "text": [
      "9999998\n"
     ]
    }
   ],
   "source": [
    "list1=list(range(1,10000000))\n",
    "list2=list(range(2,10000001))\n",
    "list3=[]\n",
    "for i in range(len(list1)):\n",
    "    list3.append(list1[i]+list2[i])\n",
    "print(i)\n"
   ]
  },
  {
   "cell_type": "code",
   "execution_count": 6,
   "id": "76bdef9a",
   "metadata": {},
   "outputs": [
    {
     "data": {
      "text/plain": [
       "array([78, 47, 36, 64])"
      ]
     },
     "execution_count": 6,
     "metadata": {},
     "output_type": "execute_result"
    }
   ],
   "source": [
    "import numpy as np \n",
    "student_marks_arr=np.array([78,47,36,64])\n",
    "student_marks_arr\n"
   ]
  },
  {
   "cell_type": "raw",
   "id": "16913e77",
   "metadata": {},
   "source": []
  },
  {
   "cell_type": "code",
   "execution_count": 11,
   "id": "e7240571",
   "metadata": {},
   "outputs": [],
   "source": [
    "car_attributes=[[18,15,14,16,17],[130,165,150,150,140],[307,350,304,303]]\n",
    "                                            "
   ]
  },
  {
   "cell_type": "code",
   "execution_count": 17,
   "id": "e88689a4",
   "metadata": {},
   "outputs": [
    {
     "data": {
      "text/plain": [
       "array([18, 15, 14, 16, 17])"
      ]
     },
     "execution_count": 17,
     "metadata": {},
     "output_type": "execute_result"
    }
   ],
   "source": [
    "car_attributes=[18,15,14,16,17]\n",
    "car_attributes_arr=np.array(car_attributes)\n",
    "car_attributes_arr\n",
    "\n"
   ]
  },
  {
   "cell_type": "code",
   "execution_count": null,
   "id": "cd547afd",
   "metadata": {},
   "outputs": [],
   "source": [
    "car_attributes=[[18,15,14,16,17],[130,165,150,150,140],[307,350,304,303]]\n",
    "car_attributes_arr=np.array(car_attributes,dtype\n"
   ]
  },
  {
   "cell_type": "code",
   "execution_count": null,
   "id": "ab7a64d5",
   "metadata": {},
   "outputs": [],
   "source": []
  },
  {
   "cell_type": "code",
   "execution_count": null,
   "id": "0b7cf900",
   "metadata": {},
   "outputs": [],
   "source": []
  }
 ],
 "metadata": {
  "kernelspec": {
   "display_name": "Python 3 (ipykernel)",
   "language": "python",
   "name": "python3"
  },
  "language_info": {
   "codemirror_mode": {
    "name": "ipython",
    "version": 3
   },
   "file_extension": ".py",
   "mimetype": "text/x-python",
   "name": "python",
   "nbconvert_exporter": "python",
   "pygments_lexer": "ipython3",
   "version": "3.11.4"
  }
 },
 "nbformat": 4,
 "nbformat_minor": 5
}
