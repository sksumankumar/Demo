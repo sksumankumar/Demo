{
 "cells": [
  {
   "cell_type": "code",
   "execution_count": 3,
   "id": "8d13fcf2",
   "metadata": {},
   "outputs": [
    {
     "name": "stdout",
     "output_type": "stream",
     "text": [
      "   height  weight  color  age\n",
      "0     2.0     3.0    red    2\n",
      "1     6.0     8.0   None   10\n",
      "2     NaN     NaN  black    6\n",
      "3     4.0    12.0  brown    7\n",
      "4     8.0     4.0  black    4\n",
      "5     3.0     4.0   None    1\n",
      "6     4.0     1.0  green    2\n",
      "7     1.0     2.0   None    3\n"
     ]
    }
   ],
   "source": [
    "import pandas as pd\n",
    "data={'height':[2,6,None,4,8,3,4,1],\n",
    "      'weight':[3,8,None,12,4,4,1,2],\n",
    "      'color':['red','None','black','brown','black','None','green','None'],\n",
    "      'age':[2,10,6,7,4,1,2,3]}\n",
    "df=pd.DataFrame(data)\n",
    "print(df)"
   ]
  },
  {
   "cell_type": "markdown",
   "id": "b3479bf0",
   "metadata": {},
   "source": [
    "# checking for missing value"
   ]
  },
  {
   "cell_type": "code",
   "execution_count": 5,
   "id": "9884a998",
   "metadata": {},
   "outputs": [
    {
     "data": {
      "text/html": [
       "<div>\n",
       "<style scoped>\n",
       "    .dataframe tbody tr th:only-of-type {\n",
       "        vertical-align: middle;\n",
       "    }\n",
       "\n",
       "    .dataframe tbody tr th {\n",
       "        vertical-align: top;\n",
       "    }\n",
       "\n",
       "    .dataframe thead th {\n",
       "        text-align: right;\n",
       "    }\n",
       "</style>\n",
       "<table border=\"1\" class=\"dataframe\">\n",
       "  <thead>\n",
       "    <tr style=\"text-align: right;\">\n",
       "      <th></th>\n",
       "      <th>height</th>\n",
       "      <th>weight</th>\n",
       "      <th>color</th>\n",
       "      <th>age</th>\n",
       "    </tr>\n",
       "  </thead>\n",
       "  <tbody>\n",
       "    <tr>\n",
       "      <th>0</th>\n",
       "      <td>False</td>\n",
       "      <td>False</td>\n",
       "      <td>False</td>\n",
       "      <td>False</td>\n",
       "    </tr>\n",
       "    <tr>\n",
       "      <th>1</th>\n",
       "      <td>False</td>\n",
       "      <td>False</td>\n",
       "      <td>False</td>\n",
       "      <td>False</td>\n",
       "    </tr>\n",
       "    <tr>\n",
       "      <th>2</th>\n",
       "      <td>True</td>\n",
       "      <td>True</td>\n",
       "      <td>False</td>\n",
       "      <td>False</td>\n",
       "    </tr>\n",
       "    <tr>\n",
       "      <th>3</th>\n",
       "      <td>False</td>\n",
       "      <td>False</td>\n",
       "      <td>False</td>\n",
       "      <td>False</td>\n",
       "    </tr>\n",
       "    <tr>\n",
       "      <th>4</th>\n",
       "      <td>False</td>\n",
       "      <td>False</td>\n",
       "      <td>False</td>\n",
       "      <td>False</td>\n",
       "    </tr>\n",
       "    <tr>\n",
       "      <th>5</th>\n",
       "      <td>False</td>\n",
       "      <td>False</td>\n",
       "      <td>False</td>\n",
       "      <td>False</td>\n",
       "    </tr>\n",
       "    <tr>\n",
       "      <th>6</th>\n",
       "      <td>False</td>\n",
       "      <td>False</td>\n",
       "      <td>False</td>\n",
       "      <td>False</td>\n",
       "    </tr>\n",
       "    <tr>\n",
       "      <th>7</th>\n",
       "      <td>False</td>\n",
       "      <td>False</td>\n",
       "      <td>False</td>\n",
       "      <td>False</td>\n",
       "    </tr>\n",
       "  </tbody>\n",
       "</table>\n",
       "</div>"
      ],
      "text/plain": [
       "   height  weight  color    age\n",
       "0   False   False  False  False\n",
       "1   False   False  False  False\n",
       "2    True    True  False  False\n",
       "3   False   False  False  False\n",
       "4   False   False  False  False\n",
       "5   False   False  False  False\n",
       "6   False   False  False  False\n",
       "7   False   False  False  False"
      ]
     },
     "execution_count": 5,
     "metadata": {},
     "output_type": "execute_result"
    }
   ],
   "source": [
    "df.isna()"
   ]
  },
  {
   "cell_type": "markdown",
   "id": "440e135e",
   "metadata": {},
   "source": [
    "# Dropping the row where there are missing values"
   ]
  },
  {
   "cell_type": "code",
   "execution_count": 6,
   "id": "a8080ddb",
   "metadata": {},
   "outputs": [
    {
     "data": {
      "text/plain": [
       "height    0\n",
       "weight    0\n",
       "color     0\n",
       "age       0\n",
       "dtype: int64"
      ]
     },
     "execution_count": 6,
     "metadata": {},
     "output_type": "execute_result"
    }
   ],
   "source": [
    "df.dropna(axis=0).isnull().sum()"
   ]
  },
  {
   "cell_type": "markdown",
   "id": "71c314fd",
   "metadata": {},
   "source": [
    "# Replacing the mean for the missing value of height"
   ]
  },
  {
   "cell_type": "code",
   "execution_count": 13,
   "id": "9415540f",
   "metadata": {},
   "outputs": [
    {
     "data": {
      "text/plain": [
       "0    2.0\n",
       "1    6.0\n",
       "2    4.0\n",
       "3    4.0\n",
       "4    8.0\n",
       "5    3.0\n",
       "6    4.0\n",
       "7    1.0\n",
       "Name: height, dtype: float64"
      ]
     },
     "execution_count": 13,
     "metadata": {},
     "output_type": "execute_result"
    }
   ],
   "source": [
    "df['height']=df['height'].fillna(df['height'].mean())\n",
    "df['height']"
   ]
  },
  {
   "cell_type": "markdown",
   "id": "9d2f0978",
   "metadata": {},
   "source": [
    "# Replacing with mode for the missing value of color"
   ]
  },
  {
   "cell_type": "code",
   "execution_count": 9,
   "id": "200fc8d7",
   "metadata": {},
   "outputs": [
    {
     "data": {
      "text/plain": [
       "0      red\n",
       "1     None\n",
       "2    black\n",
       "3    brown\n",
       "4    black\n",
       "5     None\n",
       "6    green\n",
       "7     None\n",
       "Name: color, dtype: object"
      ]
     },
     "execution_count": 9,
     "metadata": {},
     "output_type": "execute_result"
    }
   ],
   "source": [
    "df['color']=df['color'].fillna(df['color'].mode()[0])\n",
    "df['color']"
   ]
  },
  {
   "cell_type": "markdown",
   "id": "c555ed89",
   "metadata": {},
   "source": [
    "# Boxplot to find outliers"
   ]
  },
  {
   "cell_type": "code",
   "execution_count": 10,
   "id": "feaede8a",
   "metadata": {},
   "outputs": [
    {
     "data": {
      "text/plain": [
       "Text(0.5, 1.0, 'Box plot')"
      ]
     },
     "execution_count": 10,
     "metadata": {},
     "output_type": "execute_result"
    },
    {
     "data": {
      "image/png": "[encoded data removed]",
      "text/plain": [
       "<Figure size 640x480 with 1 Axes>"
      ]
     },
     "metadata": {},
     "output_type": "display_data"
    }
   ],
   "source": [
    "import matplotlib.pyplot as plt\n",
    "df['height'].plot(kind ='box')\n",
    "plt.title('Box plot')"
   ]
  },
  {
   "cell_type": "markdown",
   "id": "58e900e5",
   "metadata": {},
   "source": [
    "# histogram to check the frequency distribution of variable age and note down the interval having the heighest frequency"
   ]
  },
  {
   "cell_type": "code",
   "execution_count": 11,
   "id": "9987ef25",
   "metadata": {},
   "outputs": [
    {
     "data": {
      "text/plain": [
       "Text(0.5, 1.0, 'histogram')"
      ]
     },
     "execution_count": 11,
     "metadata": {},
     "output_type": "execute_result"
    },
    {
     "data": {
      "image/png": "[encoded data removed]",
      "text/plain": [
       "<Figure size 640x480 with 1 Axes>"
      ]
     },
     "metadata": {},
     "output_type": "display_data"
    }
   ],
   "source": [
    "df['age'].plot(kind='hist')\n",
    "plt.ylabel('frequency')\n",
    "plt.xlabel('age')\n",
    "plt.title('histogram')"
   ]
  },
  {
   "cell_type": "markdown",
   "id": "f962b1a8",
   "metadata": {},
   "source": [
    "# Scatter to determine the weight  and height"
   ]
  },
  {
   "cell_type": "code",
   "execution_count": 12,
   "id": "9857418d",
   "metadata": {},
   "outputs": [
    {
     "data": {
      "text/plain": [
       "Text(0.5, 1.0, 'scatter plot')"
      ]
     },
     "execution_count": 12,
     "metadata": {},
     "output_type": "execute_result"
    },
    {
     "data": {
      "image/png": "[encoded data removed]",
      "text/plain": [
       "<Figure size 640x480 with 1 Axes>"
      ]
     },
     "metadata": {},
     "output_type": "display_data"
    }
   ],
   "source": [
    "plt.scatter(df['weight'],df['height'],color='red',marker='*')\n",
    "plt.xlabel('weight')\n",
    "plt.ylabel('height')\n",
    "plt.title('scatter plot')"
   ]
  }
 ],
 "metadata": {
  "kernelspec": {
   "display_name": "Python 3 (ipykernel)",
   "language": "python",
   "name": "python3"
  },
  "language_info": {
   "codemirror_mode": {
    "name": "ipython",
    "version": 3
   },
   "file_extension": ".py",
   "mimetype": "text/x-python",
   "name": "python",
   "nbconvert_exporter": "python",
   "pygments_lexer": "ipython3",
   "version": "3.11.4"
  }
 },
 "nbformat": 4,
 "nbformat_minor": 5
}
