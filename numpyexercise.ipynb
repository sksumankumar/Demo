{
 "cells": [
  {
   "cell_type": "code",
   "execution_count": 1,
   "id": "78a0dc9f",
   "metadata": {},
   "outputs": [
    {
     "data": {
      "text/plain": [
       "array([[   1, 4335],\n",
       "       [   2, 9552],\n",
       "       [   3, 7332],\n",
       "       [   4, 4504],\n",
       "       [   5, 5335],\n",
       "       [   6, 7552],\n",
       "       [   7, 8332],\n",
       "       [   8, 6504],\n",
       "       [   9, 8965],\n",
       "       [  10, 7689]])"
      ]
     },
     "execution_count": 1,
     "metadata": {},
     "output_type": "execute_result"
    }
   ],
   "source": [
    "import numpy as np\n",
    "Day_number=np.arange(1,11)\n",
    "steps_walked=[4335,9552,7332,4504,5335,7552,8332,6504,8965,7689]\n",
    "arr=np.array([Day_number,steps_walked])\n",
    "arr=arr.T\n",
    "arr"
   ]
  },
  {
   "cell_type": "code",
   "execution_count": 3,
   "id": "6c4a39a8",
   "metadata": {},
   "outputs": [
    {
     "data": {
      "text/plain": [
       "array([[    1,  6335],\n",
       "       [    2, 11552],\n",
       "       [    3,  9332],\n",
       "       [    4,  6504],\n",
       "       [    5,  7335],\n",
       "       [    6,  9552],\n",
       "       [    7, 10332],\n",
       "       [    8,  8504],\n",
       "       [    9, 10965],\n",
       "       [   10,  9689]])"
      ]
     },
     "execution_count": 3,
     "metadata": {},
     "output_type": "execute_result"
    }
   ],
   "source": [
    "new_arr=arr[:,1]+2000\n",
    "arr[:,1]=new_arr\n",
    "arr"
   ]
  },
  {
   "cell_type": "code",
   "execution_count": 4,
   "id": "0e28ab9e",
   "metadata": {},
   "outputs": [
    {
     "data": {
      "text/plain": [
       "array([[    2, 11552],\n",
       "       [    3,  9332],\n",
       "       [    6,  9552],\n",
       "       [    7, 10332],\n",
       "       [    9, 10965],\n",
       "       [   10,  9689]])"
      ]
     },
     "execution_count": 4,
     "metadata": {},
     "output_type": "execute_result"
    }
   ],
   "source": [
    "matched=arr[:,1]>9000\n",
    "matched\n",
    "new_arr=arr[matched]\n",
    "new_arr"
   ]
  },
  {
   "cell_type": "code",
   "execution_count": 5,
   "id": "e6b1356d",
   "metadata": {},
   "outputs": [
    {
     "name": "stdout",
     "output_type": "stream",
     "text": [
      "sorted 2D Numpy Array\n",
      "[[    1  6335]\n",
      " [    4  6504]\n",
      " [    5  7335]\n",
      " [    8  8504]\n",
      " [    3  9332]\n",
      " [    6  9552]\n",
      " [   10  9689]\n",
      " [    7 10332]\n",
      " [    9 10965]\n",
      " [    2 11552]]\n"
     ]
    }
   ],
   "source": [
    "sortedArr=arr[arr[:,1].argsort()]\n",
    "print('sorted 2D Numpy Array')\n",
    "print(sortedArr)"
   ]
  },
  {
   "cell_type": "code",
   "execution_count": null,
   "id": "55a5c002",
   "metadata": {},
   "outputs": [],
   "source": []
  }
 ],
 "metadata": {
  "kernelspec": {
   "display_name": "Python 3 (ipykernel)",
   "language": "python",
   "name": "python3"
  },
  "language_info": {
   "codemirror_mode": {
    "name": "ipython",
    "version": 3
   },
   "file_extension": ".py",
   "mimetype": "text/x-python",
   "name": "python",
   "nbconvert_exporter": "python",
   "pygments_lexer": "ipython3",
   "version": "3.11.4"
  }
 },
 "nbformat": 4,
 "nbformat_minor": 5
}
