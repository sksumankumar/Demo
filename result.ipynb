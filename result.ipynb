{
 "cells": [
  {
   "cell_type": "code",
   "execution_count": 1,
   "id": "3ebeccff",
   "metadata": {},
   "outputs": [
    {
     "name": "stdout",
     "output_type": "stream",
     "text": [
      "   number       bins\n",
      "0      32   (20, 40]\n",
      "1      59   (40, 60]\n",
      "2      62   (60, 80]\n",
      "3      23   (20, 40]\n",
      "4      52   (40, 60]\n",
      "5      20    (1, 20]\n",
      "6      94  (80, 100]\n",
      "7      99  (80, 100]\n",
      "8      73   (60, 80]\n",
      "9       4    (1, 20]\n",
      "[(20, 40], (40, 60], (60, 80], (1, 20], (80, 100]]\n",
      "Categories (5, interval[int64, right]): [(1, 20] < (20, 40] < (40, 60] < (60, 80] < (80, 100]]\n"
     ]
    }
   ],
   "source": [
    "import pandas as pd\n",
    "import numpy as np\n",
    "df=pd.DataFrame({'number':np.random.randint(1,100,10)})\n",
    "df['bins']=pd.cut(x=df['number'],bins=[1,20,40,60,80,100])\n",
    "print(df)\n",
    "print(df['bins'].unique())"
   ]
  },
  {
   "cell_type": "code",
   "execution_count": null,
   "id": "20778145",
   "metadata": {},
   "outputs": [],
   "source": []
  }
 ],
 "metadata": {
  "kernelspec": {
   "display_name": "Python 3 (ipykernel)",
   "language": "python",
   "name": "python3"
  },
  "language_info": {
   "codemirror_mode": {
    "name": "ipython",
    "version": 3
   },
   "file_extension": ".py",
   "mimetype": "text/x-python",
   "name": "python",
   "nbconvert_exporter": "python",
   "pygments_lexer": "ipython3",
   "version": "3.11.4"
  }
 },
 "nbformat": 4,
 "nbformat_minor": 5
}
