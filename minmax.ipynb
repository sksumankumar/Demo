{
 "cells": [
  {
   "cell_type": "code",
   "execution_count": 1,
   "id": "baee9493",
   "metadata": {},
   "outputs": [
    {
     "name": "stdout",
     "output_type": "stream",
     "text": [
      "Min: 2\n",
      "Max: 4\n"
     ]
    }
   ],
   "source": [
    "import pandas as pd\n",
    "Series_A=[10,20,0,40,50]\n",
    "print(\"Min:\",pd.Series(Series_A).idxmin())\n",
    "print(\"Max:\",pd.Series(Series_A).idxmax())"
   ]
  },
  {
   "cell_type": "code",
   "execution_count": 2,
   "id": "45c4f682",
   "metadata": {},
   "outputs": [
    {
     "name": "stdout",
     "output_type": "stream",
     "text": [
      "\n"
     ]
    }
   ],
   "source": [
    "import pandas as pd\n",
    "Series_B=[40,50,60,70,80]\n",
    "print(\"sum:\",pd.Series(Series_B).sum())"
   ]
  },
  {
   "cell_type": "code",
   "execution_count": null,
   "id": "331fe6cc",
   "metadata": {},
   "outputs": [],
   "source": []
  }
 ],
 "metadata": {
  "kernelspec": {
   "display_name": "Python 3 (ipykernel)",
   "language": "python",
   "name": "python3"
  },
  "language_info": {
   "codemirror_mode": {
    "name": "ipython",
    "version": 3
   },
   "file_extension": ".py",
   "mimetype": "text/x-python",
   "name": "python",
   "nbconvert_exporter": "python",
   "pygments_lexer": "ipython3",
   "version": "3.11.4"
  }
 },
 "nbformat": 4,
 "nbformat_minor": 5
}
