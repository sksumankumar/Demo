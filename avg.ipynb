{
 "cells": [
  {
   "cell_type": "code",
   "execution_count": 1,
   "id": "777a4265",
   "metadata": {},
   "outputs": [
    {
     "name": "stdout",
     "output_type": "stream",
     "text": [
      "Min: 2\n",
      "Max: 4\n"
     ]
    }
   ],
   "source": [
    "import pandas as pd\n",
    "Series_A=[10,20,0,40,50]\n",
    "print(\"Min:\",pd.Series(Series_A).idxmin())\n",
    "print(\"Max:\",pd.Series(Series_A).idxmax())"
   ]
  },
  {
   "cell_type": "code",
   "execution_count": 3,
   "id": "2b0237f6",
   "metadata": {},
   "outputs": [
    {
     "name": "stdout",
     "output_type": "stream",
     "text": [
      "sum: 300\n"
     ]
    }
   ],
   "source": [
    "import pandas as pd\n",
    "Series_B=[40,50,60,70,80]\n",
    "print(\"sum:\",pd.Series(Series_B).sum())"
   ]
  },
  {
   "cell_type": "code",
   "execution_count": 4,
   "id": "8ecd5445",
   "metadata": {},
   "outputs": [
    {
     "name": "stdout",
     "output_type": "stream",
     "text": [
      "Avg: 30.075\n"
     ]
    }
   ],
   "source": [
    "import pandas as pd \n",
    "Series_A=[10,20.30,40,50]\n",
    "print(\"Avg:\",pd.Series(Series_A).mean())"
   ]
  },
  {
   "cell_type": "code",
   "execution_count": null,
   "id": "773393ac",
   "metadata": {},
   "outputs": [],
   "source": [
    "import pandas as pd\n",
    "Series_B=[40,50,60,70,80]\n",
    "print(\"median\")"
   ]
  }
 ],
 "metadata": {
  "kernelspec": {
   "display_name": "Python 3 (ipykernel)",
   "language": "python",
   "name": "python3"
  },
  "language_info": {
   "codemirror_mode": {
    "name": "ipython",
    "version": 3
   },
   "file_extension": ".py",
   "mimetype": "text/x-python",
   "name": "python",
   "nbconvert_exporter": "python",
   "pygments_lexer": "ipython3",
   "version": "3.11.4"
  }
 },
 "nbformat": 4,
 "nbformat_minor": 5
}
