{
 "cells": [
  {
   "cell_type": "code",
   "execution_count": 1,
   "id": "45fe51e6",
   "metadata": {},
   "outputs": [
    {
     "name": "stdout",
     "output_type": "stream",
     "text": [
      "a: [1 2 3 5]\n",
      "sum: 11\n",
      "product: 30\n",
      "mean: 2.75\n",
      "standard_deviation: 1.479019945774904\n",
      "variance: 2.1875\n",
      "minimum: 1\n",
      "maximum: 5\n"
     ]
    }
   ],
   "source": [
    "import numpy as np\n",
    "a=np.array([1,2,3,5])\n",
    "print(\"a:\",a)\n",
    "sum=np.sum(a)\n",
    "print(\"sum:\",sum)\n",
    "product=np.prod(a)\n",
    "print(\"product:\",product)\n",
    "mean=np.mean(a)\n",
    "print(\"mean:\",mean)\n",
    "standard_deviation=np.std(a)\n",
    "print(\"standard_deviation:\",standard_deviation)\n",
    "variance=np.var(a)\n",
    "print(\"variance:\",variance)\n",
    "minimum=np.min(a)\n",
    "print(\"minimum:\",minimum)\n",
    "maximum=np.max(a)\n",
    "print(\"maximum:\",maximum)\n"
   ]
  },
  {
   "cell_type": "code",
   "execution_count": null,
   "id": "208eead9",
   "metadata": {},
   "outputs": [],
   "source": []
  }
 ],
 "metadata": {
  "kernelspec": {
   "display_name": "Python 3 (ipykernel)",
   "language": "python",
   "name": "python3"
  },
  "language_info": {
   "codemirror_mode": {
    "name": "ipython",
    "version": 3
   },
   "file_extension": ".py",
   "mimetype": "text/x-python",
   "name": "python",
   "nbconvert_exporter": "python",
   "pygments_lexer": "ipython3",
   "version": "3.11.4"
  }
 },
 "nbformat": 4,
 "nbformat_minor": 5
}
