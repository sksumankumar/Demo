{
 "cells": [
  {
   "cell_type": "code",
   "execution_count": 7,
   "id": "01f4a87a",
   "metadata": {},
   "outputs": [
    {
     "name": "stdout",
     "output_type": "stream",
     "text": [
      "  subject  amount\n",
      "0  python    1000\n",
      "1    java    2000\n",
      "\n",
      " map operation to multiply amount by 2\n",
      "\n",
      "  subject  amount\n",
      "0  python    2000\n",
      "1    java    4000\n",
      "\n",
      "\n",
      "\n",
      " operation of filter to display only subject colummn\n",
      "\n",
      "  subject\n",
      "0  python\n",
      "1    java\n",
      "\n",
      " reduce operation to find total amount\n",
      "\n"
     ]
    },
    {
     "data": {
      "text/plain": [
       "6000"
      ]
     },
     "execution_count": 7,
     "metadata": {},
     "output_type": "execute_result"
    }
   ],
   "source": [
    "import pandas as pd\n",
    "from operator import add\n",
    "from functools import reduce\n",
    "coding={'subject':['python','java'],'amount':[1000,2000]}\n",
    "df=pd.DataFrame(coding)\n",
    "print(df)\n",
    "print(\"\\n map operation to multiply amount by 2\\n\")\n",
    "df['amount']=df['amount'].map(lambda x:x*2)\n",
    "print(df)\n",
    "print(\"\\n\")\n",
    "print(\"\\n operation of filter to display only subject colummn\\n\")\n",
    "df2=df.filter(items=['subject'])\n",
    "print(df2)\n",
    "print(\"\\n reduce operation to find total amount\\n\")\n",
    "reduce(add,df.amount)\n",
    "\n"
   ]
  },
  {
   "cell_type": "code",
   "execution_count": 11,
   "id": "cb24555a",
   "metadata": {},
   "outputs": [
    {
     "name": "stdout",
     "output_type": "stream",
     "text": [
      "   maths  english  science  history  social\n",
      "0      9        4        8        9       6\n",
      "1      8       10        7        6       5\n",
      "2      7        6        8        5       2\n"
     ]
    },
    {
     "data": {
      "text/html": [
       "<div>\n",
       "<style scoped>\n",
       "    .dataframe tbody tr th:only-of-type {\n",
       "        vertical-align: middle;\n",
       "    }\n",
       "\n",
       "    .dataframe tbody tr th {\n",
       "        vertical-align: top;\n",
       "    }\n",
       "\n",
       "    .dataframe thead th {\n",
       "        text-align: right;\n",
       "    }\n",
       "</style>\n",
       "<table border=\"1\" class=\"dataframe\">\n",
       "  <thead>\n",
       "    <tr style=\"text-align: right;\">\n",
       "      <th></th>\n",
       "      <th>maths</th>\n",
       "      <th>english</th>\n",
       "      <th>science</th>\n",
       "      <th>history</th>\n",
       "      <th>social</th>\n",
       "    </tr>\n",
       "  </thead>\n",
       "  <tbody>\n",
       "    <tr>\n",
       "      <th>sum</th>\n",
       "      <td>24.0</td>\n",
       "      <td>20.000000</td>\n",
       "      <td>23.000000</td>\n",
       "      <td>20.000000</td>\n",
       "      <td>13.000000</td>\n",
       "    </tr>\n",
       "    <tr>\n",
       "      <th>min</th>\n",
       "      <td>7.0</td>\n",
       "      <td>4.000000</td>\n",
       "      <td>7.000000</td>\n",
       "      <td>5.000000</td>\n",
       "      <td>2.000000</td>\n",
       "    </tr>\n",
       "    <tr>\n",
       "      <th>max</th>\n",
       "      <td>9.0</td>\n",
       "      <td>10.000000</td>\n",
       "      <td>8.000000</td>\n",
       "      <td>9.000000</td>\n",
       "      <td>6.000000</td>\n",
       "    </tr>\n",
       "    <tr>\n",
       "      <th>mean</th>\n",
       "      <td>8.0</td>\n",
       "      <td>6.666667</td>\n",
       "      <td>7.666667</td>\n",
       "      <td>6.666667</td>\n",
       "      <td>4.333333</td>\n",
       "    </tr>\n",
       "    <tr>\n",
       "      <th>median</th>\n",
       "      <td>8.0</td>\n",
       "      <td>6.000000</td>\n",
       "      <td>8.000000</td>\n",
       "      <td>6.000000</td>\n",
       "      <td>5.000000</td>\n",
       "    </tr>\n",
       "    <tr>\n",
       "      <th>std</th>\n",
       "      <td>1.0</td>\n",
       "      <td>3.055050</td>\n",
       "      <td>0.577350</td>\n",
       "      <td>2.081666</td>\n",
       "      <td>2.081666</td>\n",
       "    </tr>\n",
       "    <tr>\n",
       "      <th>count</th>\n",
       "      <td>3.0</td>\n",
       "      <td>3.000000</td>\n",
       "      <td>3.000000</td>\n",
       "      <td>3.000000</td>\n",
       "      <td>3.000000</td>\n",
       "    </tr>\n",
       "    <tr>\n",
       "      <th>size</th>\n",
       "      <td>3.0</td>\n",
       "      <td>3.000000</td>\n",
       "      <td>3.000000</td>\n",
       "      <td>3.000000</td>\n",
       "      <td>3.000000</td>\n",
       "    </tr>\n",
       "  </tbody>\n",
       "</table>\n",
       "</div>"
      ],
      "text/plain": [
       "        maths    english    science    history     social\n",
       "sum      24.0  20.000000  23.000000  20.000000  13.000000\n",
       "min       7.0   4.000000   7.000000   5.000000   2.000000\n",
       "max       9.0  10.000000   8.000000   9.000000   6.000000\n",
       "mean      8.0   6.666667   7.666667   6.666667   4.333333\n",
       "median    8.0   6.000000   8.000000   6.000000   5.000000\n",
       "std       1.0   3.055050   0.577350   2.081666   2.081666\n",
       "count     3.0   3.000000   3.000000   3.000000   3.000000\n",
       "size      3.0   3.000000   3.000000   3.000000   3.000000"
      ]
     },
     "execution_count": 11,
     "metadata": {},
     "output_type": "execute_result"
    }
   ],
   "source": [
    "import pandas as pd \n",
    "df=pd.DataFrame([[9,4,8,9,6],\n",
    "                [8,10,7,6,5],\n",
    "                [7,6,8,5,2]],\n",
    "                columns=['maths','english','science','history','social'])\n",
    "print(df)\n",
    "df.agg(['sum','min','max','mean','median','std','count','size'])"
   ]
  },
  {
   "cell_type": "code",
   "execution_count": null,
   "id": "b0e8d861",
   "metadata": {},
   "outputs": [],
   "source": []
  }
 ],
 "metadata": {
  "kernelspec": {
   "display_name": "Python 3 (ipykernel)",
   "language": "python",
   "name": "python3"
  },
  "language_info": {
   "codemirror_mode": {
    "name": "ipython",
    "version": 3
   },
   "file_extension": ".py",
   "mimetype": "text/x-python",
   "name": "python",
   "nbconvert_exporter": "python",
   "pygments_lexer": "ipython3",
   "version": "3.11.3"
  }
 },
 "nbformat": 4,
 "nbformat_minor": 5
}
